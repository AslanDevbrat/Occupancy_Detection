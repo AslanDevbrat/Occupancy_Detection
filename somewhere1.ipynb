{
  "nbformat": 4,
  "nbformat_minor": 0,
  "metadata": {
    "colab": {
      "name": "somewhere1.ipynb",
      "provenance": [],
      "include_colab_link": true
    },
    "kernelspec": {
      "name": "python3",
      "display_name": "Python 3"
    },
    "accelerator": "GPU"
  },
  "cells": [
    {
      "cell_type": "markdown",
      "metadata": {
        "id": "view-in-github",
        "colab_type": "text"
      },
      "source": [
        "<a href=\"https://colab.research.google.com/github/AslanDevbrat/Occupancy_Detection/blob/main/somewhere1.ipynb\" target=\"_parent\"><img src=\"https://colab.research.google.com/assets/colab-badge.svg\" alt=\"Open In Colab\"/></a>"
      ]
    },
    {
      "cell_type": "code",
      "metadata": {
        "id": "PvOeh4VnP2WY",
        "colab": {
          "base_uri": "https://localhost:8080/",
          "height": 52
        },
        "outputId": "32947fcd-58e1-445c-a94b-938248ce3e26"
      },
      "source": [
        " %tensorflow_version 2.x\n",
        " from __future__ import absolute_import, division, print_function, unicode_literals\n",
        "import functools\n",
        "import os\n",
        "import pandas as pd\n",
        "import matplotlib.pyplot as plt\n",
        "\n",
        "import numpy as np\n",
        "import tensorflow as tf\n",
        "\n",
        "print(\"TensorFlow version: {}\".format(tf.__version__))\n",
        "print(\"Eager execution: {}\".format(tf.executing_eagerly()))"
      ],
      "execution_count": null,
      "outputs": [
        {
          "output_type": "stream",
          "text": [
            "TensorFlow version: 2.2.0-rc1\n",
            "Eager execution: True\n"
          ],
          "name": "stdout"
        }
      ]
    },
    {
      "cell_type": "code",
      "metadata": {
        "id": "-cNhMoHOROL3",
        "colab": {
          "base_uri": "https://localhost:8080/",
          "height": 87
        },
        "outputId": "2f9240c6-a6e0-4d31-c680-fa5d0a143e1b"
      },
      "source": [
        "!pip install scikit-learn"
      ],
      "execution_count": null,
      "outputs": [
        {
          "output_type": "stream",
          "text": [
            "Requirement already satisfied: scikit-learn in /usr/local/lib/python3.6/dist-packages (0.22.2.post1)\n",
            "Requirement already satisfied: scipy>=0.17.0 in /usr/local/lib/python3.6/dist-packages (from scikit-learn) (1.4.1)\n",
            "Requirement already satisfied: joblib>=0.11 in /usr/local/lib/python3.6/dist-packages (from scikit-learn) (0.14.1)\n",
            "Requirement already satisfied: numpy>=1.11.0 in /usr/local/lib/python3.6/dist-packages (from scikit-learn) (1.18.2)\n"
          ],
          "name": "stdout"
        }
      ]
    },
    {
      "cell_type": "code",
      "metadata": {
        "id": "IXdRWk8pP4n2",
        "colab": {
          "base_uri": "https://localhost:8080/",
          "height": 121
        },
        "outputId": "1e2b5abb-5754-4942-8799-7ad9ce44875b"
      },
      "source": [
        "import pandas as pd\n",
        "\n",
        "train_data = pd.read_csv('datatraining.csv')\n",
        "train_data\n",
        "train_data=train_data.drop(['index','date','HumidityRatio'],axis=1)\n",
        "train_tem_mean,train_hum_mean,train_light_mean,train_co_mean,x = train_data.mean()\n",
        "arr1 = [train_data.mean()]\n",
        "train_tem_std,train_hum_std,train_light_std,train_co_std,x = train_data.std()\n",
        "train_tem_std\n",
        "arr2 =[train_data.std()]\n",
        "arr2\n",
        "\n",
        "#train_data\n"
      ],
      "execution_count": null,
      "outputs": [
        {
          "output_type": "execute_result",
          "data": {
            "text/plain": [
              "[Temperature     20.827630\n",
              " Humidity        27.998747\n",
              " Light          121.453183\n",
              " CO2            686.479722\n",
              " Occupancy        0.211120\n",
              " dtype: float64]"
            ]
          },
          "metadata": {
            "tags": []
          },
          "execution_count": 3
        }
      ]
    },
    {
      "cell_type": "code",
      "metadata": {
        "id": "_aluIgHKP8zn",
        "colab": {
          "base_uri": "https://localhost:8080/",
          "height": 260
        },
        "outputId": "de27c25b-5029-4751-86e5-2919236a1ee2"
      },
      "source": [
        "from sklearn.preprocessing import StandardScaler\n",
        "scaled_features = train_data.copy()\n",
        "col_names = ['Temperature','Humidity','Light','CO2']\n",
        "features = scaled_features[col_names]\n",
        "scaler = StandardScaler().fit(features.values)\n",
        "features = scaler.transform(features.values)\n",
        "scaled_features [col_names] = features\n",
        "print(scaled_features)"
      ],
      "execution_count": null,
      "outputs": [
        {
          "output_type": "stream",
          "text": [
            "       Temperature  Humidity     Light       CO2  Occupancy\n",
            "0         0.899461  0.606332  1.562204  1.094134          1\n",
            "1         0.928402  0.580541  1.562204  0.999552          1\n",
            "2         0.906696  0.604237  1.545719  1.011508          1\n",
            "3         0.906696  0.604237  1.570447  1.029839          1\n",
            "4         0.928402  0.606332  1.562204  1.017618          1\n",
            "...            ...       ...       ...       ...        ...\n",
            "17890     0.214521  1.566565  1.540773  0.321271          1\n",
            "17891     0.214521  1.546738  1.540773  0.328445          1\n",
            "17892     0.262756  1.566082  1.540773  0.357138          1\n",
            "17893     0.262756  1.597998  1.540773  0.426746          1\n",
            "17894     0.262756  1.586392  1.610011  0.428872          1\n",
            "\n",
            "[17895 rows x 5 columns]\n"
          ],
          "name": "stdout"
        }
      ]
    },
    {
      "cell_type": "code",
      "metadata": {
        "id": "UHDGiUk9Qqp5",
        "colab": {
          "base_uri": "https://localhost:8080/",
          "height": 35
        },
        "outputId": "1a16fa15-561a-4d25-8f8c-b88bf252ad1a"
      },
      "source": [
        "type(scaled_features)"
      ],
      "execution_count": null,
      "outputs": [
        {
          "output_type": "execute_result",
          "data": {
            "text/plain": [
              "pandas.core.frame.DataFrame"
            ]
          },
          "metadata": {
            "tags": []
          },
          "execution_count": 5
        }
      ]
    },
    {
      "cell_type": "code",
      "metadata": {
        "id": "bwPjDvvZR9jt",
        "colab": {
          "base_uri": "https://localhost:8080/",
          "height": 52
        },
        "outputId": "7590f9a9-5825-42f5-cd17-41cbe7d95b09"
      },
      "source": [
        "feature_names = scaled_features.columns[:-1]\n",
        "label_name = scaled_features.columns[4]\n",
        "print(\"Features: {}\".format(feature_names))\n",
        "print(\"Label: {}\".format(label_name))"
      ],
      "execution_count": null,
      "outputs": [
        {
          "output_type": "stream",
          "text": [
            "Features: Index(['Temperature', 'Humidity', 'Light', 'CO2'], dtype='object')\n",
            "Label: Occupancy\n"
          ],
          "name": "stdout"
        }
      ]
    },
    {
      "cell_type": "code",
      "metadata": {
        "id": "N4ffyojCSM7W"
      },
      "source": [
        "label = scaled_features.pop('Occupancy')"
      ],
      "execution_count": null,
      "outputs": []
    },
    {
      "cell_type": "code",
      "metadata": {
        "id": "TCL9WBszShb9"
      },
      "source": [
        "dataset = tf.data.Dataset.from_tensor_slices((scaled_features.values, label.values))\n",
        "val_dataset = tf.data.Dataset.from_tensor_slices((scaled_features.values, label.values))\n",
        "val_dataset = val_dataset.batch(64)"
      ],
      "execution_count": null,
      "outputs": []
    },
    {
      "cell_type": "code",
      "metadata": {
        "id": "fdZtY7WwTcmw",
        "colab": {
          "base_uri": "https://localhost:8080/",
          "height": 884
        },
        "outputId": "a568590c-06f8-4e81-e6ab-e387e3a9f889"
      },
      "source": [
        "for feat, targ in dataset.take(50):\n",
        "  print ('Features: {}, Target: {}'.format(feat, targ))"
      ],
      "execution_count": null,
      "outputs": [
        {
          "output_type": "stream",
          "text": [
            "Features: [0.89946108 0.60633211 1.56220397 1.09413392], Target: 1\n",
            "Features: [0.92840221 0.58054106 1.56220397 0.99955193], Target: 1\n",
            "Features: [0.90669636 0.60423659 1.54571877 1.01150752], Target: 1\n",
            "Features: [0.90669636 0.60423659 1.57044657 1.02983942], Target: 1\n",
            "Features: [0.92840221 0.60633211 1.56220397 1.01761815], Target: 1\n",
            "Features: [0.89946108 0.63083361 1.56220397 1.04524885], Target: 1\n",
            "Features: [0.92840221 0.61874405 1.54571877 1.05853284], Target: 1\n",
            "Features: [0.92840221 0.65662466 1.56220397 1.0590642 ], Target: 1\n",
            "Features: [0.92840221 0.641956   1.54571877 1.06969139], Target: 1\n",
            "Features: [0.92840221 0.67016496 1.56220397 1.08669489], Target: 1\n",
            "Features: [0.92840221 0.68209332 1.56426462 1.15178643], Target: 1\n",
            "Features: [0.92840221 0.69176496 1.58404686 1.15577163], Target: 1\n",
            "Features: [0.92840221 0.65694705 1.58528324 1.1956236 ], Target: 1\n",
            "Features: [0.92840221 0.65646346 1.58404686 1.15577163], Target: 1\n",
            "Features: [0.92840221 0.6772575  1.58281047 1.15258347], Target: 1\n",
            "Features: [0.95251982 0.6772575  1.56550101 1.15656867], Target: 1\n",
            "Features: [0.95251982 0.67193809 1.62237494 1.16294498], Target: 1\n",
            "Features: [1.02487264 0.69660079 1.62237494 1.19243544], Target: 1\n",
            "Features: [0.92840221 0.68692914 1.62237494 1.18924728], Target: 1\n",
            "Features: [0.96055902 0.72174706 1.61330808 1.22909925], Target: 1\n",
            "Features: [1.00075503 0.72029631 1.62237494 1.23016196], Target: 1\n",
            "Features: [1.02487264 0.72464855 1.62237494 1.23972644], Target: 1\n",
            "Features: [1.02487264 0.72900079 1.62237494 1.2769216 ], Target: 1\n",
            "Features: [1.02487264 0.72900079 1.56426462 1.26496601], Target: 1\n",
            "Features: [1.02487264 0.73335303 1.58858028 1.27479617], Target: 1\n",
            "Features: [1.02487264 0.73335303 1.56220397 1.28967423], Target: 1\n",
            "Features: [1.02487264 0.75269632 1.57044657 1.31836765], Target: 1\n",
            "Features: [1.02487264 0.75269632 1.59517436 1.3215558 ], Target: 1\n",
            "Features: [1.02487264 0.7478605  1.59517436 1.34068475], Target: 1\n",
            "Features: [1.02487264 0.73335303 1.59517436 1.35024922], Target: 1\n",
            "Features: [1.02487264 0.7478605  1.59517436 1.32394692], Target: 1\n",
            "Features: [1.02487264 0.72174706 1.59517436 1.31836765], Target: 1\n",
            "Features: [1.02487264 0.72029631 1.59517436 1.29525351], Target: 1\n",
            "Features: [1.02487264 0.71594407 1.59517436 1.29445647], Target: 1\n",
            "Features: [1.02487264 0.71497691 1.55808267 1.2992387 ], Target: 1\n",
            "Features: [1.02487264 0.69015302 1.54571877 1.27267073], Target: 1\n",
            "Features: [1.02487264 0.68692914 1.55808267 1.14939532], Target: 0\n",
            "Features: [1.02487264 0.6501769  1.54571877 1.0983848 ], Target: 0\n",
            "Features: [1.02487264 0.60472017 1.53953682 0.92781839], Target: 0\n",
            "Features: [1.02487264 0.60955599 1.55808267 0.87601084], Target: 1\n",
            "Features: [1.02487264 0.59279181 1.54571877 0.83376775], Target: 1\n",
            "Features: [1.02487264 0.5360515  1.52099098 0.72297929], Target: 1\n",
            "Features: [1.02487264 0.53556792 1.53953682 0.62494346], Target: 1\n",
            "Features: [1.02487264 0.56990225 1.52099098 0.63131977], Target: 1\n",
            "Features: [1.02487264 0.54040374 1.52099098 0.67754805], Target: 1\n",
            "Features: [1.02487264 0.5360515  1.53953682 0.64327536], Target: 1\n",
            "Features: [1.02487264 0.54088732 1.55808267 0.61219083], Target: 1\n",
            "Features: [1.02487264 0.54523956 1.52099098 0.65283983], Target: 1\n",
            "Features: [1.02487264 0.51283955 1.55808267 0.66957766], Target: 1\n",
            "Features: [1.02487264 0.53169926 1.52099098 0.64726056], Target: 1\n"
          ],
          "name": "stdout"
        }
      ]
    },
    {
      "cell_type": "code",
      "metadata": {
        "id": "J7VQLPh0UDhU"
      },
      "source": [
        ""
      ],
      "execution_count": null,
      "outputs": []
    },
    {
      "cell_type": "code",
      "metadata": {
        "id": "_ZKWcHUsZ1Ld"
      },
      "source": [
        "train_dataset = dataset.shuffle(len(scaled_features)).batch(1)"
      ],
      "execution_count": null,
      "outputs": []
    },
    {
      "cell_type": "code",
      "metadata": {
        "id": "Q-QBEbt0Z3nQ"
      },
      "source": [
        "def get_compiled_model():\n",
        "  model = tf.keras.Sequential([\n",
        "  tf.keras.layers.Dense(4, activation=tf.nn.sigmoid, input_shape=(4,)),  # input shape required\n",
        "  tf.keras.layers.Dense(5, activation=tf.nn.sigmoid),\n",
        "  tf.keras.layers.Dense(2,activation=tf.nn.log_softmax)\n",
        "\n",
        "  ])\n",
        "\n",
        "  model.compile(optimizer='adam',\n",
        "                loss=tf.keras.losses.SparseCategoricalCrossentropy(from_logits=True),\n",
        "                metrics=['accuracy'])\n",
        "  return model"
      ],
      "execution_count": null,
      "outputs": []
    },
    {
      "cell_type": "code",
      "metadata": {
        "id": "zKeD7ZFBaGZP",
        "colab": {
          "base_uri": "https://localhost:8080/",
          "height": 139
        },
        "outputId": "85a8b36e-8b4a-4323-eed2-455fcd9afd34"
      },
      "source": [
        "model = get_compiled_model()\n",
        "\n",
        "model.fit(train_dataset, epochs=3,validation_data=val_dataset)"
      ],
      "execution_count": null,
      "outputs": [
        {
          "output_type": "stream",
          "text": [
            "Epoch 1/3\n",
            "17895/17895 [==============================] - 46s 3ms/step - loss: 0.1156 - accuracy: 0.9559 - val_loss: 0.0404 - val_accuracy: 0.9902\n",
            "Epoch 2/3\n",
            "17895/17895 [==============================] - 46s 3ms/step - loss: 0.0403 - accuracy: 0.9905 - val_loss: 0.0400 - val_accuracy: 0.9904\n",
            "Epoch 3/3\n",
            "17895/17895 [==============================] - 47s 3ms/step - loss: 0.0404 - accuracy: 0.9904 - val_loss: 0.0399 - val_accuracy: 0.9903\n"
          ],
          "name": "stdout"
        },
        {
          "output_type": "execute_result",
          "data": {
            "text/plain": [
              "<tensorflow.python.keras.callbacks.History at 0x7faca9fc1208>"
            ]
          },
          "metadata": {
            "tags": []
          },
          "execution_count": 12
        }
      ]
    },
    {
      "cell_type": "code",
      "metadata": {
        "id": "0gx2wqxzaaEs"
      },
      "source": [
        "test_data = pd.read_csv('datatest.csv')\n",
        "test_data=test_data.drop(['index','date','HumidityRatio'],axis=1)\n",
        "#test_data\n"
      ],
      "execution_count": null,
      "outputs": []
    },
    {
      "cell_type": "code",
      "metadata": {
        "id": "PnSwJItyf2Wf",
        "colab": {
          "base_uri": "https://localhost:8080/",
          "height": 260
        },
        "outputId": "b5fd70ef-67bb-49f2-e7ad-c3bb00ace1a4"
      },
      "source": [
        "scaled_features1 = test_data.copy()\n",
        "col_names = ['Temperature','Humidity','Light','CO2']\n",
        "features1 = scaled_features1[col_names]\n",
        "scaler1 = StandardScaler().fit(features1)\n",
        "features1 = scaler.transform(features1.values)\n",
        "scaled_features1 [col_names] = features1\n",
        "print(scaled_features1)"
      ],
      "execution_count": null,
      "outputs": [
        {
          "output_type": "stream",
          "text": [
            "      Temperature  Humidity     Light       CO2  Occupancy\n",
            "0        2.770987 -0.334010  2.293487  0.199962          1\n",
            "1        2.788352 -0.330528  2.259858  0.235669          1\n",
            "2        2.799929 -0.342134  2.231503  0.265213          1\n",
            "3        2.792693 -0.362444  1.841216  0.281420          1\n",
            "4        2.823081 -0.347937  1.815746  0.294969          1\n",
            "...           ...       ...       ...       ...        ...\n",
            "2660     3.340163 -0.444653  3.395358  1.478573          1\n",
            "2661     3.378751 -0.437690  3.404260  1.411462          1\n",
            "2662     3.378751 -0.444653  3.439868  1.400622          1\n",
            "2663     3.404477 -0.444653  3.420086  1.391695          1\n",
            "2664     3.454320 -0.448199  3.345902  1.394883          1\n",
            "\n",
            "[2665 rows x 5 columns]\n"
          ],
          "name": "stdout"
        }
      ]
    },
    {
      "cell_type": "code",
      "metadata": {
        "id": "QRD05MSrtA35"
      },
      "source": [
        "label1 = scaled_features1.pop('Occupancy')"
      ],
      "execution_count": null,
      "outputs": []
    },
    {
      "cell_type": "code",
      "metadata": {
        "id": "Nhph-mNGseFX"
      },
      "source": [
        "test_dataset = tf.data.Dataset.from_tensor_slices((scaled_features1.values, label1.values))"
      ],
      "execution_count": null,
      "outputs": []
    },
    {
      "cell_type": "code",
      "metadata": {
        "id": "yg2ReO6tqWjS",
        "colab": {
          "base_uri": "https://localhost:8080/",
          "height": 884
        },
        "outputId": "6f6d284d-974f-48a1-ece4-6571176643fb"
      },
      "source": [
        "for feat, targ in test_dataset.take(50):\n",
        "  print ('Features: {}, Target: {}'.format(feat, targ))"
      ],
      "execution_count": null,
      "outputs": [
        {
          "output_type": "stream",
          "text": [
            "Features: [ 2.77098743 -0.33400958  2.29348732  0.19996211], Target: 1\n",
            "Features: [ 2.78835211 -0.33052779  2.25985751  0.23566947], Target: 1\n",
            "Features: [ 2.79992856 -0.34213376  2.23150297  0.26521306], Target: 1\n",
            "Features: [ 2.79269328 -0.36244421  1.84121593  0.28141952], Target: 1\n",
            "Features: [ 2.82308146 -0.34793675  1.8157463   0.29496919], Target: 1\n",
            "Features: [ 2.82886969 -0.33633078  2.21172074  0.33003892], Target: 1\n",
            "Features: [ 2.79992856 -0.33052779  2.05181433  0.35554418], Target: 1\n",
            "Features: [ 2.82308146 -0.33052779  1.91663571  0.35235602], Target: 1\n",
            "Features: [ 2.82308146 -0.31892182  1.75343226  0.37212259], Target: 1\n",
            "Features: [ 2.80571679 -0.3111845   1.92158127  0.39061391], Target: 1\n",
            "Features: [ 2.81439913 -0.30054569  1.78063283  0.41053989], Target: 1\n",
            "Features: [ 2.77098743 -0.27830091  1.7821165   0.43843626], Target: 1\n",
            "Features: [ 2.77098743 -0.2705636   1.74972309  0.46394152], Target: 1\n",
            "Features: [ 2.77098743 -0.25122031  1.71881334  0.50645028], Target: 1\n",
            "Features: [ 2.77098743 -0.23690628  1.69408555  0.52897993], Target: 1\n",
            "Features: [ 2.77098743 -0.21446806  1.69408555  0.55639808], Target: 1\n",
            "Features: [ 2.77098743 -0.19850985  1.64957551  0.61697307], Target: 1\n",
            "Features: [ 2.674517   -0.21446806  1.64462995  0.6520428 ], Target: 1\n",
            "Features: [ 2.71310517 -0.19783284  1.66441219  0.67308463], Target: 1\n",
            "Features: [ 2.72275222 -0.1835188   1.69408555  0.68233029], Target: 1\n",
            "Features: [ 2.71310517 -0.17384716  1.73859558  0.70879199], Target: 1\n",
            "Features: [ 2.674517   -0.16224119  1.69408555  0.73812304], Target: 1\n",
            "Features: [ 2.674517   -0.14754029  1.86421278  0.76107777], Target: 1\n",
            "Features: [ 2.674517   -0.13709491  2.02148156  0.77446803], Target: 1\n",
            "Features: [ 2.674517   -0.1293576   2.03829646  0.79678513], Target: 1\n",
            "Features: [ 2.674517   -0.12742327  1.99205549  0.84014407], Target: 1\n",
            "Features: [ 2.69863461 -0.11726804  1.8655316   0.8752138 ], Target: 1\n",
            "Features: [ 2.674517   -0.11775163  1.95290314  0.88159011], Target: 1\n",
            "Features: [ 2.674517   -0.1134961   1.87806035  0.86756222], Target: 1\n",
            "Features: [ 2.674517   -0.09647401  1.98092798  0.88902915], Target: 1\n",
            "Features: [ 2.674517   -0.09163819  1.97350964  0.93339767], Target: 1\n",
            "Features: [ 2.674517   -0.07713072  1.89826649  0.93077882], Target: 1\n",
            "Features: [ 2.674517   -0.07713072  1.81442749  0.94535326], Target: 1\n",
            "Features: [ 2.674517   -0.08873669  1.93147239  0.97595957], Target: 1\n",
            "Features: [ 2.674517   -0.07713072  1.92652683  0.99062509], Target: 1\n",
            "Features: [ 2.69059541 -0.07068296  1.87954401  0.99795785], Target: 1\n",
            "Features: [ 2.73883062 -0.05778743  1.89025939  1.00274009], Target: 1\n",
            "Features: [ 2.674517   -0.05778743  1.78887543  1.02983942], Target: 1\n",
            "Features: [ 2.674517   -0.05343519  1.79052395  1.06012691], Target: 1\n",
            "Features: [ 2.674517   -0.04037847  1.73859558  1.06650323], Target: 1\n",
            "Features: [ 2.674517   -0.02748295  1.72540742  1.07819314], Target: 1\n",
            "Features: [ 2.674517   -0.03761515  1.773921    1.096563  ], Target: 1\n",
            "Features: [ 2.65039939 -0.04037847  1.69408555  1.08324105], Target: 1\n",
            "Features: [ 2.61663474 -0.03650982  1.74551936  1.08882033], Target: 1\n",
            "Features: [ 2.674517   -0.00401309  1.7237589   1.1104998 ], Target: 1\n",
            "Features: [2.60216418e+00 2.42429747e-04 1.64462995e+00 1.17649465e+00], Target: 1\n",
            "Features: [ 2.57804657 -0.00401309  1.64462995  1.17569761], Target: 1\n",
            "Features: [2.57804657e+00 2.42429747e-04 1.64462995e+00 1.15895979e+00], Target: 1\n",
            "Features: [2.57804657e+00 2.42429747e-04 1.64462995e+00 1.16294498e+00], Target: 1\n",
            "Features: [2.57804657e+00 2.42429747e-04 1.60011992e+00 1.17043715e+00], Target: 1\n"
          ],
          "name": "stdout"
        }
      ]
    },
    {
      "cell_type": "code",
      "metadata": {
        "id": "nEqivg7CrW7V"
      },
      "source": [
        "\n",
        "test_dataset = test_dataset.shuffle(len(scaled_features1)).batch(1)\n",
        "\n"
      ],
      "execution_count": null,
      "outputs": []
    },
    {
      "cell_type": "code",
      "metadata": {
        "id": "0CfeXzOItbro",
        "colab": {
          "base_uri": "https://localhost:8080/",
          "height": 35
        },
        "outputId": "fc078b61-68ef-4ed5-cb1d-0e2c21871aad"
      },
      "source": [
        "retult = model.evaluate(features1,label1,batch_size=128)"
      ],
      "execution_count": null,
      "outputs": [
        {
          "output_type": "stream",
          "text": [
            "21/21 [==============================] - 0s 2ms/step - loss: 0.0798 - accuracy: 0.9782\n"
          ],
          "name": "stdout"
        }
      ]
    },
    {
      "cell_type": "code",
      "metadata": {
        "id": "t3IMZh1vuYrs",
        "colab": {
          "base_uri": "https://localhost:8080/",
          "height": 121
        },
        "outputId": "6896d303-ce58-4778-cffe-f8460e87a684"
      },
      "source": [
        "class_names = ['0','1','2']\n",
        "predict_dataset = tf.convert_to_tensor([\n",
        "    [1.02487264, 0.01769,  0.6, 0.0983848,],\n",
        "    [23.18, 27.272 ,426 ,721.25,],\n",
        "    [1.02487264, 0.60472017, 1.53953682, 0.92781839]\n",
        "])\n",
        "\n",
        "# training=False is needed only if there are layers with different\n",
        "# behavior during training versus inference (e.g. Dropout).\n",
        "predictions = model(predict_dataset, training=False)\n",
        "\n",
        "for i, logits in enumerate(predictions):\n",
        "  class_idx = tf.argmax(logits).numpy()\n",
        "  print(logits)\n",
        "  p = tf.nn.softmax(logits)[class_idx]\n",
        "  name = class_names[class_idx]\n",
        "  print(\"Example {} prediction: {} ({:4.1f}%)\".format(i, name, 100*p))"
      ],
      "execution_count": null,
      "outputs": [
        {
          "output_type": "stream",
          "text": [
            "tf.Tensor([-0.00786541 -4.8492117 ], shape=(2,), dtype=float32)\n",
            "Example 0 prediction: 0 (99.2%)\n",
            "tf.Tensor([-3.8189964  -0.02219433], shape=(2,), dtype=float32)\n",
            "Example 1 prediction: 1 (97.8%)\n",
            "tf.Tensor([-3.5236626  -0.02993485], shape=(2,), dtype=float32)\n",
            "Example 2 prediction: 1 (97.1%)\n"
          ],
          "name": "stdout"
        }
      ]
    },
    {
      "cell_type": "code",
      "metadata": {
        "id": "WGwGi3WLzMgV",
        "colab": {
          "base_uri": "https://localhost:8080/",
          "height": 124
        },
        "outputId": "6426ba5c-9edd-4db6-c92e-50416c7642ef"
      },
      "source": [
        "export_path_sm = \"./{}\".format('occupanyDetection')\n",
        "print(export_path_sm)\n",
        "\n",
        "tf.saved_model.save(model, export_path_sm)"
      ],
      "execution_count": null,
      "outputs": [
        {
          "output_type": "stream",
          "text": [
            "./occupanyDetection\n",
            "WARNING:tensorflow:From /usr/local/lib/python3.6/dist-packages/tensorflow/python/ops/resource_variable_ops.py:1817: calling BaseResourceVariable.__init__ (from tensorflow.python.ops.resource_variable_ops) with constraint is deprecated and will be removed in a future version.\n",
            "Instructions for updating:\n",
            "If using Keras pass *_constraint arguments to layers.\n",
            "INFO:tensorflow:Assets written to: ./occupanyDetection/assets\n"
          ],
          "name": "stdout"
        }
      ]
    },
    {
      "cell_type": "code",
      "metadata": {
        "id": "fA2A8NZe-6U4",
        "colab": {
          "base_uri": "https://localhost:8080/",
          "height": 35
        },
        "outputId": "d6372b38-9d4c-4bfc-8045-7f48d8d45802"
      },
      "source": [
        "\n",
        "\n",
        "export_path_keras = \"./{}.h5\".format('occupancyDetection')\n",
        "print(export_path_keras)\n",
        "\n",
        "model.save(export_path_keras)"
      ],
      "execution_count": null,
      "outputs": [
        {
          "output_type": "stream",
          "text": [
            "./occupancyDetection.h5\n"
          ],
          "name": "stdout"
        }
      ]
    },
    {
      "cell_type": "code",
      "metadata": {
        "id": "sjaKpcHh_T7B",
        "colab": {
          "base_uri": "https://localhost:8080/",
          "height": 35
        },
        "outputId": "7a60c61c-1fbf-499f-8034-d7a6f9c8dcd0"
      },
      "source": [
        "import tensorflow as tf\n",
        "\n",
        "converter = tf.lite.TFLiteConverter.from_saved_model('/content/occupanyDetection')\n",
        "tflite_model = converter.convert()\n",
        "open(\"converted_model.tflite\", \"wb\").write(tflite_model)\n"
      ],
      "execution_count": null,
      "outputs": [
        {
          "output_type": "execute_result",
          "data": {
            "text/plain": [
              "2188"
            ]
          },
          "metadata": {
            "tags": []
          },
          "execution_count": 23
        }
      ]
    },
    {
      "cell_type": "code",
      "metadata": {
        "id": "hmCw9D_R_lFZ",
        "colab": {
          "base_uri": "https://localhost:8080/",
          "height": 35
        },
        "outputId": "de1f82ea-4c40-4860-8e1a-07a2ea837a3b"
      },
      "source": [
        "scaler.mean_"
      ],
      "execution_count": null,
      "outputs": [
        {
          "output_type": "execute_result",
          "data": {
            "text/plain": [
              "array([ 20.82763028,  27.9987467 , 121.45318338, 686.47972152])"
            ]
          },
          "metadata": {
            "tags": []
          },
          "execution_count": 24
        }
      ]
    },
    {
      "cell_type": "code",
      "metadata": {
        "id": "yvJQixNpJs2W",
        "colab": {
          "base_uri": "https://localhost:8080/",
          "height": 35
        },
        "outputId": "b98d5c60-3ef1-4093-a68c-d1748ffe46fc"
      },
      "source": [
        "scaler.var_"
      ],
      "execution_count": null,
      "outputs": [
        {
          "output_type": "execute_result",
          "data": {
            "text/plain": [
              "array([1.07451273e+00, 2.67263356e+01, 4.08854891e+04, 9.83831106e+04])"
            ]
          },
          "metadata": {
            "tags": []
          },
          "execution_count": 25
        }
      ]
    },
    {
      "cell_type": "code",
      "metadata": {
        "id": "qcmbO9a4h16Q"
      },
      "source": [
        "import math as m\n"
      ],
      "execution_count": null,
      "outputs": []
    },
    {
      "cell_type": "code",
      "metadata": {
        "id": "0561YxZXiTJQ",
        "colab": {
          "base_uri": "https://localhost:8080/",
          "height": 35
        },
        "outputId": "8df6d162-c2b7-4080-bc9b-036a87246ae6"
      },
      "source": [
        "np.sqrt(scaler.var_)"
      ],
      "execution_count": null,
      "outputs": [
        {
          "output_type": "execute_result",
          "data": {
            "text/plain": [
              "array([  1.03658706,   5.16975199, 202.20160509, 313.66082097])"
            ]
          },
          "metadata": {
            "tags": []
          },
          "execution_count": 27
        }
      ]
    },
    {
      "cell_type": "code",
      "metadata": {
        "id": "-8eDGG8OiY4V"
      },
      "source": [
        ""
      ],
      "execution_count": null,
      "outputs": []
    }
  ]
}